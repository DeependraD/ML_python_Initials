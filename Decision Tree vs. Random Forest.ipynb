{
 "cells": [
  {
   "cell_type": "markdown",
   "metadata": {
    "_cell_guid": "71a26c60-73cf-683b-9ad2-5612b8a17dcd"
   },
   "source": [
    "**Decision Tree Model vs. Random Forests**\n",
    "\n",
    "Here we will learn more about Random Forests and compare them to a decision tree model, the CART model.  \n",
    "\n",
    "Random Forest is the choice of algorithm when one can’t think of any algorithm irrespective of situation, to apply on a data set or if one wants to learn about the data before applying any more apt complex algorithms. It is considered to be a solution of all data science problems.\n",
    "\n",
    "Random Forests are capable of performing both regression and classification tasks. It helps in dimensional reduction, treats missing values, outlier values and other essential steps of data exploration, and does a fairly good job. \n",
    "\n",
    "Let's get started by first looking at the Iris data and run the CART model to examine how decision trees work.  "
   ]
  },
  {
   "cell_type": "markdown",
   "metadata": {
    "_cell_guid": "65102d16-080e-f928-89a3-a078e8fa0411"
   },
   "source": [
    "Let's load in the Iris data and get familiar with the data set.  \n",
    "\n",
    "Here, we can see that there are 150 observations (rows) with 5 variables (columns).  \n",
    "It looks like there are three Iris flower species in the dataset."
   ]
  },
  {
   "cell_type": "code",
   "execution_count": null,
   "metadata": {
    "_cell_guid": "3a920857-2819-b957-964a-8828147ef5fc"
   },
   "outputs": [
    {
     "name": "stderr",
     "output_type": "stream",
     "text": [
      "Loading required package: lattice\n"
     ]
    },
    {
     "name": "stdout",
     "output_type": "stream",
     "text": [
      "'data.frame':\t150 obs. of  5 variables:\n",
      " $ Sepal.Length: num  5.1 4.9 4.7 4.6 5 5.4 4.6 5 4.4 4.9 ...\n",
      " $ Sepal.Width : num  3.5 3 3.2 3.1 3.6 3.9 3.4 3.4 2.9 3.1 ...\n",
      " $ Petal.Length: num  1.4 1.4 1.3 1.5 1.4 1.7 1.4 1.5 1.4 1.5 ...\n",
      " $ Petal.Width : num  0.2 0.2 0.2 0.2 0.2 0.4 0.3 0.2 0.2 0.1 ...\n",
      " $ Species     : Factor w/ 3 levels \"setosa\",\"versicolor\",..: 1 1 1 1 1 1 1 1 1 1 ...\n"
     ]
    },
    {
     "data": {
      "text/plain": [
       "  Sepal.Length    Sepal.Width     Petal.Length    Petal.Width   \n",
       " Min.   :4.300   Min.   :2.000   Min.   :1.000   Min.   :0.100  \n",
       " 1st Qu.:5.100   1st Qu.:2.800   1st Qu.:1.600   1st Qu.:0.300  \n",
       " Median :5.800   Median :3.000   Median :4.350   Median :1.300  \n",
       " Mean   :5.843   Mean   :3.057   Mean   :3.758   Mean   :1.199  \n",
       " 3rd Qu.:6.400   3rd Qu.:3.300   3rd Qu.:5.100   3rd Qu.:1.800  \n",
       " Max.   :7.900   Max.   :4.400   Max.   :6.900   Max.   :2.500  \n",
       "       Species  \n",
       " setosa    :50  \n",
       " versicolor:50  \n",
       " virginica :50  \n",
       "                \n",
       "                \n",
       "                "
      ]
     },
     "metadata": {},
     "output_type": "display_data"
    },
    {
     "data": {
      "text/html": [
       "<table>\n",
       "<thead><tr><th scope=col>Sepal.Length</th><th scope=col>Sepal.Width</th><th scope=col>Petal.Length</th><th scope=col>Petal.Width</th><th scope=col>Species</th></tr></thead>\n",
       "<tbody>\n",
       "\t<tr><td>5.1   </td><td>3.5   </td><td>1.4   </td><td>0.2   </td><td>setosa</td></tr>\n",
       "\t<tr><td>4.9   </td><td>3.0   </td><td>1.4   </td><td>0.2   </td><td>setosa</td></tr>\n",
       "\t<tr><td>4.7   </td><td>3.2   </td><td>1.3   </td><td>0.2   </td><td>setosa</td></tr>\n",
       "\t<tr><td>4.6   </td><td>3.1   </td><td>1.5   </td><td>0.2   </td><td>setosa</td></tr>\n",
       "\t<tr><td>5.0   </td><td>3.6   </td><td>1.4   </td><td>0.2   </td><td>setosa</td></tr>\n",
       "\t<tr><td>5.4   </td><td>3.9   </td><td>1.7   </td><td>0.4   </td><td>setosa</td></tr>\n",
       "</tbody>\n",
       "</table>\n"
      ],
      "text/latex": [
       "\\begin{tabular}{r|lllll}\n",
       " Sepal.Length & Sepal.Width & Petal.Length & Petal.Width & Species\\\\\n",
       "\\hline\n",
       "\t 5.1    & 3.5    & 1.4    & 0.2    & setosa\\\\\n",
       "\t 4.9    & 3.0    & 1.4    & 0.2    & setosa\\\\\n",
       "\t 4.7    & 3.2    & 1.3    & 0.2    & setosa\\\\\n",
       "\t 4.6    & 3.1    & 1.5    & 0.2    & setosa\\\\\n",
       "\t 5.0    & 3.6    & 1.4    & 0.2    & setosa\\\\\n",
       "\t 5.4    & 3.9    & 1.7    & 0.4    & setosa\\\\\n",
       "\\end{tabular}\n"
      ],
      "text/markdown": [
       "\n",
       "Sepal.Length | Sepal.Width | Petal.Length | Petal.Width | Species | \n",
       "|---|---|---|---|---|---|\n",
       "| 5.1    | 3.5    | 1.4    | 0.2    | setosa | \n",
       "| 4.9    | 3.0    | 1.4    | 0.2    | setosa | \n",
       "| 4.7    | 3.2    | 1.3    | 0.2    | setosa | \n",
       "| 4.6    | 3.1    | 1.5    | 0.2    | setosa | \n",
       "| 5.0    | 3.6    | 1.4    | 0.2    | setosa | \n",
       "| 5.4    | 3.9    | 1.7    | 0.4    | setosa | \n",
       "\n",
       "\n"
      ],
      "text/plain": [
       "  Sepal.Length Sepal.Width Petal.Length Petal.Width Species\n",
       "1 5.1          3.5         1.4          0.2         setosa \n",
       "2 4.9          3.0         1.4          0.2         setosa \n",
       "3 4.7          3.2         1.3          0.2         setosa \n",
       "4 4.6          3.1         1.5          0.2         setosa \n",
       "5 5.0          3.6         1.4          0.2         setosa \n",
       "6 5.4          3.9         1.7          0.4         setosa "
      ]
     },
     "metadata": {},
     "output_type": "display_data"
    },
    {
     "data": {},
     "metadata": {},
     "output_type": "display_data"
    }
   ],
   "source": [
    "library(ggplot2) # Data visualization\n",
    "library(readr) # CSV file I/O, e.g. the read_csv function\n",
    "# Install below packages for building a CART model.\n",
    "library(rpart)\n",
    "library(caret)\n",
    "\n",
    "\n",
    "data(iris)\n",
    "str(iris)\n",
    "summary(iris)\n",
    "head(iris)\n",
    "\n",
    "library(ggplot2)\n",
    "qplot(Petal.Length,Petal.Width,colour=Species,data=iris)"
   ]
  },
  {
   "cell_type": "markdown",
   "metadata": {
    "_cell_guid": "d4c26404-8020-bdc2-aad9-8998f3a2eee5"
   },
   "source": [
    "Divide the population in to training and testing sets. Compare the predictive power of decision tree and random forest on testing set of data."
   ]
  },
  {
   "cell_type": "code",
   "execution_count": 2,
   "metadata": {
    "_cell_guid": "fbc5ddc1-4363-a009-cac6-c8649d17dac0"
   },
   "outputs": [
    {
     "data": {
      "text/html": [
       "105"
      ],
      "text/latex": [
       "105"
      ],
      "text/markdown": [
       "105"
      ],
      "text/plain": [
       "[1] 105"
      ]
     },
     "metadata": {},
     "output_type": "display_data"
    },
    {
     "data": {
      "text/html": [
       "45"
      ],
      "text/latex": [
       "45"
      ],
      "text/markdown": [
       "45"
      ],
      "text/plain": [
       "[1] 45"
      ]
     },
     "metadata": {},
     "output_type": "display_data"
    }
   ],
   "source": [
    "# Create a vector called flag such that 70% of the data is put into training set and rest in to testing set. \n",
    "# flag will have row numbers corresponding to observations that will be put into training set and the rows remaining in iris_data\n",
    "# will be put into testing set.\n",
    "flag <- createDataPartition(y=iris$Species,p=0.7,list=FALSE)\n",
    "\n",
    "# training will have rows from iris_data for the row numbers present in flag vector.\n",
    "training <- iris[flag,]\n",
    "nrow(training)\n",
    "\n",
    "# testing will have rows from iris_data which are not present in flag vector.\n",
    "testing <- iris[-flag,]\n",
    "nrow(testing)"
   ]
  },
  {
   "cell_type": "markdown",
   "metadata": {
    "_cell_guid": "e48733ec-2e1a-2c04-3c1f-58cca4b6769b"
   },
   "source": [
    "So we have 105 observations in training set and 45 in testing set.\n",
    "\n",
    "Build a CART model. \"caret\" and \"rpart\" packages will be used to build the model. To create a more graphically appealing graph in R, a package called “rattle” is used to make the decision tree. \"Rattle\" builds more fancy and clean trees which are easy to interpret."
   ]
  },
  {
   "cell_type": "code",
   "execution_count": null,
   "metadata": {
    "_cell_guid": "b56c7727-2aff-d530-2bb8-81ebbaedd9c1",
    "collapsed": true
   },
   "outputs": [],
   "source": [
    "fit <- train(Species~.,method=\"rpart\",data=training)\n"
   ]
  },
  {
   "cell_type": "code",
   "execution_count": null,
   "metadata": {
    "_cell_guid": "36d08652-7eb7-1f81-42d8-5c5751cf7022",
    "collapsed": true
   },
   "outputs": [],
   "source": [
    "# Code for generating decision tree plot\n",
    "rpart_fit <- rpart(Species~.,method=\"class\",data=training) \n",
    "\n",
    "library(rpart.plot)\n",
    "rpart.plot(rpart_fit)"
   ]
  },
  {
   "cell_type": "markdown",
   "metadata": {
    "_cell_guid": "9a426faa-0baf-8aa4-abf8-523e5e5a7065"
   },
   "source": [
    "Now check the predictive power of the CART model that is just built. \n",
    "\n",
    "Check for the number of misclassifications in the tree as the decision criteria."
   ]
  },
  {
   "cell_type": "code",
   "execution_count": null,
   "metadata": {
    "_cell_guid": "e117a8ca-49eb-1349-e7a2-0f48b7836e71",
    "collapsed": true
   },
   "outputs": [],
   "source": [
    "train.pred <- predict(fit, newdata = training)\n",
    "conf <- table(train.pred, training$Species)\n",
    "\n",
    "conf\n",
    "sum(diag(conf))/sum(conf) #accuracy"
   ]
  },
  {
   "cell_type": "markdown",
   "metadata": {
    "_cell_guid": "50109377-5d3b-bde1-0161-f5addd038197"
   },
   "source": [
    "There are just a few misclassifications out of 105 observations. \n",
    "\n",
    "Accuracy is calculating by sum of value on the diagonal divided by sum of all.\n",
    "\n",
    "The misclassification rate signifies its predictive power. Once the model is built, it should be validated on a test set to see how well it performs on unknown data. This will help in determining the model is not over fitted. In case the model is over fitted, validation will show a sharp decline in the predictive power."
   ]
  },
  {
   "cell_type": "code",
   "execution_count": null,
   "metadata": {
    "_cell_guid": "db0f446c-b06e-7cd1-da2c-7f5d28550b8d",
    "collapsed": true
   },
   "outputs": [],
   "source": [
    "test.pred<-predict(fit,newdata=testing)\n",
    "conf <- table(test.pred,testing$Species)\n",
    "\n",
    "conf\n",
    "sum(diag(conf))/sum(conf) #accuracy"
   ]
  },
  {
   "cell_type": "markdown",
   "metadata": {
    "_cell_guid": "57647068-0778-3e5e-0be6-dd153a353a76"
   },
   "source": [
    "The predictive power decreased in testing set as compared to training. This is generally true in most cases. The reason being, the model is trained on the training data set, and just overlaid on validation training set."
   ]
  },
  {
   "cell_type": "markdown",
   "metadata": {
    "_cell_guid": "44b5d1ae-3e41-de75-5fd8-769be8d43a81"
   },
   "source": [
    "**Random Forest**\n",
    "\n",
    "Run random forest algorithm on iris data to compare the results with CART model.\n"
   ]
  },
  {
   "cell_type": "code",
   "execution_count": null,
   "metadata": {
    "_cell_guid": "d8af2547-ae74-288e-f0b4-c96f3e2827cc",
    "collapsed": true
   },
   "outputs": [],
   "source": [
    "library(randomForest)"
   ]
  },
  {
   "cell_type": "code",
   "execution_count": null,
   "metadata": {
    "_cell_guid": "dfd54865-aef9-983c-803e-6023569faf2b",
    "collapsed": true
   },
   "outputs": [],
   "source": [
    "RandomForest_fit <- randomForest(Species~.,method=\"class\",data=training, ntree=100, importance=TRUE) \n",
    "\n",
    "plot(RandomForest_fit)\n",
    "legend(\"topright\", colnames(RandomForest_fit$err.rate),col=1:4,cex=0.8,fill=1:4)"
   ]
  },
  {
   "cell_type": "markdown",
   "metadata": {
    "_cell_guid": "8a183f43-76d3-bfac-df41-4d6517d57884"
   },
   "source": [
    "The plot shows the amount of error with the variation in the number of trees constructed. Play with number of trees to generate."
   ]
  },
  {
   "cell_type": "code",
   "execution_count": null,
   "metadata": {
    "_cell_guid": "c6777916-9050-bad9-546c-3138a3d676b9",
    "collapsed": true
   },
   "outputs": [],
   "source": [
    "varImpPlot(RandomForest_fit)"
   ]
  },
  {
   "cell_type": "markdown",
   "metadata": {
    "_cell_guid": "0ace24ca-a40f-b36c-2d59-fc9695e90627"
   },
   "source": [
    "**Gini importance:**\n",
    "\n",
    "Every time a split of a node is made on variable m the gini impurity criterion for the two descendant nodes is less than the parent node. Adding up the gini decreases for each individual variable over all trees in the forest gives a fast variable importance that is often very consistent with the permutation importance measure."
   ]
  },
  {
   "cell_type": "code",
   "execution_count": null,
   "metadata": {
    "_cell_guid": "234d3035-6f4b-27ce-1ff0-e90c5a72545e",
    "collapsed": true
   },
   "outputs": [],
   "source": [
    "importance(RandomForest_fit)"
   ]
  },
  {
   "cell_type": "code",
   "execution_count": null,
   "metadata": {
    "_cell_guid": "4cee09a8-7755-b511-6391-3b6e4b44f8b9",
    "collapsed": true
   },
   "outputs": [],
   "source": [
    "# install.packages(\"party\",repo=\"http://cran.mtu.edu/\")\n",
    "\n",
    "library('party')\n",
    " \n",
    "ct = ctree(Species~., data = training)\n",
    "plot(ct, main=\"Tree\")\n",
    " \n",
    "# #Table of prediction errors\n",
    "table(predict(ct), training$Species)\n",
    " \n",
    "# # Estimated class probabilities\n",
    "train.pred = predict(ct, newdata=training, type=\"prob\")"
   ]
  },
  {
   "cell_type": "code",
   "execution_count": null,
   "metadata": {
    "_cell_guid": "c50b972d-5333-285a-79fc-945576dfbc65",
    "collapsed": true
   },
   "outputs": [],
   "source": [
    "RF_fit <- train(Species~ .,method=\"rf\",data=training)"
   ]
  },
  {
   "cell_type": "code",
   "execution_count": null,
   "metadata": {
    "_cell_guid": "5b33058a-fb17-e188-57e6-d8c02c7a9468",
    "collapsed": true
   },
   "outputs": [],
   "source": [
    "train_RF_pred <- predict(RF_fit,training)"
   ]
  },
  {
   "cell_type": "code",
   "execution_count": null,
   "metadata": {
    "_cell_guid": "85116fa3-b016-8941-7492-3c20bf8f7c23",
    "collapsed": true
   },
   "outputs": [],
   "source": [
    "conf <- table(train_RF_pred,training$Species)\n",
    "\n",
    "conf\n",
    "sum(diag(conf))/sum(conf) #accuracy"
   ]
  },
  {
   "cell_type": "markdown",
   "metadata": {
    "_cell_guid": "304acbc0-51fc-b05c-aa5a-c6c0ed192728"
   },
   "source": [
    "Misclassification rate in training data is 0/105. Validate to make sure that the model is not over fitted on the training data by testing on tets data."
   ]
  },
  {
   "cell_type": "code",
   "execution_count": null,
   "metadata": {
    "_cell_guid": "7e800fc7-2695-0814-cda3-7fcf844818f2",
    "collapsed": true
   },
   "outputs": [],
   "source": [
    "test_RF_pred<-predict(RF_fit,newdata=testing)"
   ]
  },
  {
   "cell_type": "code",
   "execution_count": null,
   "metadata": {
    "_cell_guid": "c45d9587-2b9b-d92b-27d5-c981c6a923cd",
    "collapsed": true
   },
   "outputs": [],
   "source": [
    "conf <- table(test_RF_pred,testing$Species)\n",
    "\n",
    "conf\n",
    "sum(diag(conf))/sum(conf) #accuracy"
   ]
  },
  {
   "cell_type": "markdown",
   "metadata": {
    "_cell_guid": "f64976d3-d170-9a74-749d-074f562ed1df"
   },
   "source": [
    "There are just a few misclassified observations out of 45, which is similar to CART model prediction power. There is a significant drop in predictive power of the model when compared to training misclassification rate."
   ]
  },
  {
   "cell_type": "code",
   "execution_count": null,
   "metadata": {
    "_cell_guid": "4356bd93-4a17-b7d4-571d-eff2279c7bce",
    "collapsed": true
   },
   "outputs": [],
   "source": []
  }
 ],
 "metadata": {
  "_change_revision": 2,
  "_is_fork": false,
  "kernelspec": {
   "display_name": "R",
   "language": "R",
   "name": "ir"
  },
  "language_info": {
   "codemirror_mode": "r",
   "file_extension": ".r",
   "mimetype": "text/x-r-source",
   "name": "R",
   "pygments_lexer": "r",
   "version": "3.4.0"
  }
 },
 "nbformat": 4,
 "nbformat_minor": 1
}
