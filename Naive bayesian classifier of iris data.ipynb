{"cells":[
 {
  "cell_type": "code",
  "execution_count": null,
  "metadata": {
   "collapsed": false
  },
  "outputs": [],
  "source": "import pandas as pd  # data processing, CSV file I/O (e.g. pd.read_csv)\nfrom sklearn.model_selection import train_test_split\nfrom sklearn.naive_bayes import GaussianNB  # Gaussian naive Bayes classifier\nfrom sklearn.preprocessing import LabelEncoder\n\niris = pd.read_csv(\"../input/Iris.csv\")\nprint(iris.shape)\nprint(iris.head(3))"
 },
 {
  "cell_type": "code",
  "execution_count": null,
  "metadata": {
   "collapsed": false
  },
  "outputs": [],
  "source": "# Transform the symbolic species names into numbers suitable for the Bayes classifier\nle = LabelEncoder()\nle.fit(iris['Species'])\niris['Species'] = le.transform(iris['Species'])\n\n# Split the dataset into 2/3 training data and 1/3 test data\ntrainSet, testSet = train_test_split(iris, test_size = 0.33)\nprint(trainSet.shape)\nprint(testSet.shape)\nprint(trainSet.head(3))"
 },
 {
  "cell_type": "code",
  "execution_count": null,
  "metadata": {
   "collapsed": false
  },
  "outputs": [],
  "source": "# Format the data and expected values for SKLearn\ntrainData = pd.DataFrame.as_matrix(trainSet[['SepalLengthCm', 'SepalWidthCm', 'PetalLengthCm', 'PetalWidthCm']])\ntrainTarget = pd.DataFrame.as_matrix(trainSet[['Species']]).ravel()\ntestData = pd.DataFrame.as_matrix(testSet[['SepalLengthCm', 'SepalWidthCm', 'PetalLengthCm', 'PetalWidthCm']])\ntestTarget = pd.DataFrame.as_matrix(testSet[['Species']]).ravel()\n\nclassifier = GaussianNB()\nclassifier.fit(trainData, trainTarget)"
 },
 {
  "cell_type": "code",
  "execution_count": null,
  "metadata": {
   "collapsed": false
  },
  "outputs": [],
  "source": "predictedValues = classifier.predict(testData)\n\nnErrors = (testTarget != predictedValues).sum()\naccuracy = 1.0 - nErrors / testTarget.shape[0]\nprint(\"Accuracy: \", accuracy)"
 }
],"metadata":{"kernelspec":{"display_name":"Python 3","language":"python","name":"python3"}}, "nbformat": 4, "nbformat_minor": 0}
