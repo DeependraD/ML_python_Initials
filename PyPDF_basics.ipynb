{
 "cells": [
  {
   "cell_type": "markdown",
   "metadata": {},
   "source": [
    "#### Start by importing reader and writer classes from the PyPDF2 library"
   ]
  },
  {
   "cell_type": "code",
   "execution_count": 1,
   "metadata": {
    "collapsed": true
   },
   "outputs": [],
   "source": [
    "% matplotlib inline\n",
    "import numpy as np\n",
    "from PyPDF2 import PdfFileReader, PdfFileWriter\n",
    "import matplotlib.pyplot as plt"
   ]
  },
  {
   "cell_type": "code",
   "execution_count": 2,
   "metadata": {
    "collapsed": true
   },
   "outputs": [],
   "source": [
    "reader = PdfFileReader(\"E://DD/texts_Statistics/R. Mead, S. G. Gilmour, A. Mead Statistical Principles for the Design of Experiments Applications to Real Experiments.pdf\", 'r')"
   ]
  },
  {
   "cell_type": "markdown",
   "metadata": {},
   "source": [
    "Save the file as reader object. We can get the basic information about the file such as the one below:"
   ]
  },
  {
   "cell_type": "code",
   "execution_count": 3,
   "metadata": {},
   "outputs": [
    {
     "name": "stdout",
     "output_type": "stream",
     "text": [
      "Page layout is:  /SinglePage\n",
      "Total number of pages is:  584\n",
      "Document information is:  {'/Author': 'R. Mead, S. G. Gilmour and A. Mead', '/Producer': 'Acrobat Distiller 7.0.5 (Windows)', '/CreationDate': \"D:20120917173755+05'30'\", '/ModDate': \"D:20141110225218+03'00'\", '/EBX_PUBLISHER': 'Cambridge University Press', '/Creator': 'LaTeX with hyperref package', '/Title': 'Statistical Principles for the Design of Experiments', '/Keywords': ''}\n",
      "Document fields are:  {}\n",
      "The page mode is:  /UseOutlines\n"
     ]
    }
   ],
   "source": [
    "print(\"Page layout is: \", reader.getPageLayout())\n",
    "print(\"Total number of pages is: \", reader.getNumPages())\n",
    "print(\"Document information is: \", reader.getDocumentInfo())\n",
    "print(\"Document fields are: \", reader.getFields())\n",
    "# print(\"Document outlines correspond to: \", reader.getOutlines()) # This generates a lot of output\n",
    "print(\"The page mode is: \", reader.getPageMode())"
   ]
  },
  {
   "cell_type": "markdown",
   "metadata": {},
   "source": [
    "Below is an example of how the cropbox method operates on a page."
   ]
  },
  {
   "cell_type": "code",
   "execution_count": 4,
   "metadata": {},
   "outputs": [
    {
     "name": "stdout",
     "output_type": "stream",
     "text": [
      "<class 'PyPDF2.pdf.PageObject'>\n",
      "(0, 0)\n",
      "(501.84, 717.24)\n",
      "(0, 717.24)\n",
      "(501.84, 0)\n"
     ]
    }
   ],
   "source": [
    "page_1 = reader.getPage(5)\n",
    "\n",
    "print(type(page_1))\n",
    "print(page_1.cropBox.getLowerLeft())\n",
    "print(page_1.cropBox.getUpperRight())\n",
    "print(page_1.cropBox.getUpperLeft())\n",
    "print(page_1.cropBox.getLowerRight())"
   ]
  },
  {
   "cell_type": "markdown",
   "metadata": {},
   "source": [
    "Points to Inches conversion"
   ]
  },
  {
   "cell_type": "code",
   "execution_count": 5,
   "metadata": {},
   "outputs": [
    {
     "name": "stdout",
     "output_type": "stream",
     "text": [
      "9.96 in\n",
      "6.97 in\n"
     ]
    }
   ],
   "source": [
    "print(round(717.24/72.0, 2), \"in\") # one inch contains 72 points.\n",
    "print(501.84/72.0, \"in\")"
   ]
  },
  {
   "cell_type": "code",
   "execution_count": 6,
   "metadata": {},
   "outputs": [
    {
     "data": {
      "text/plain": [
       "array([ 25.092 ,  28.6896])"
      ]
     },
     "execution_count": 6,
     "metadata": {},
     "output_type": "execute_result"
    }
   ],
   "source": [
    "lowerleft = np.add(np.array(page_1.cropBox.getLowerLeft(), dtype=\"float\"), \n",
    "       np.multiply(np.array(page_1.cropBox.getUpperRight(), dtype=\"float\"), \n",
    "                   (5/100, 4/100))) # dealing total of 10% reduction in x-axes and 8% reduction in y-axes.\n",
    "lowerleft"
   ]
  },
  {
   "cell_type": "code",
   "execution_count": 7,
   "metadata": {},
   "outputs": [
    {
     "data": {
      "text/plain": [
       "array([ 476.748 ,  688.5504])"
      ]
     },
     "execution_count": 7,
     "metadata": {},
     "output_type": "execute_result"
    }
   ],
   "source": [
    "upperright = np.subtract(np.array(page_1.cropBox.getUpperRight(), dtype=\"float\"), \n",
    "       np.multiply(np.array(page_1.cropBox.getUpperRight(), dtype=\"float\"), \n",
    "                   (5/100, 4/100)))\n",
    "upperright"
   ]
  },
  {
   "cell_type": "code",
   "execution_count": 8,
   "metadata": {},
   "outputs": [
    {
     "data": {
      "text/plain": [
       "array([  25.092 ,  688.5504])"
      ]
     },
     "execution_count": 8,
     "metadata": {},
     "output_type": "execute_result"
    }
   ],
   "source": [
    "upperleft = np.subtract(np.array(page_1.cropBox.getUpperLeft(), dtype=\"float\"), \n",
    "                        [-lowerleft[0], lowerleft[1]])\n",
    "upperleft"
   ]
  },
  {
   "cell_type": "code",
   "execution_count": 9,
   "metadata": {},
   "outputs": [
    {
     "data": {
      "text/plain": [
       "array([ 476.748 ,   28.6896])"
      ]
     },
     "execution_count": 9,
     "metadata": {},
     "output_type": "execute_result"
    }
   ],
   "source": [
    "lowerright = np.subtract(np.array(page_1.cropBox.getLowerRight(), dtype=\"float\"), \n",
    "                        [lowerleft[0], -lowerleft[1]])\n",
    "lowerright"
   ]
  },
  {
   "cell_type": "markdown",
   "metadata": {},
   "source": [
    "An array representing the points specifying the margins of the new page."
   ]
  },
  {
   "cell_type": "code",
   "execution_count": 10,
   "metadata": {},
   "outputs": [
    {
     "data": {
      "text/plain": [
       "array([[  25.092 ,   28.6896],\n",
       "       [ 476.748 ,  688.5504],\n",
       "       [ 476.748 ,   28.6896],\n",
       "       [  25.092 ,  688.5504]])"
      ]
     },
     "execution_count": 10,
     "metadata": {},
     "output_type": "execute_result"
    }
   ],
   "source": [
    "new_margin = np.concatenate(([lowerleft], [upperright], [lowerright], [upperleft]), axis=0) # use paren to preserve the shape of individual array.\n",
    "new_margin"
   ]
  },
  {
   "cell_type": "markdown",
   "metadata": {},
   "source": [
    "The above points specify all four margins for the pdf page. Let's see how it plots to a page of dimension we are provided."
   ]
  },
  {
   "cell_type": "markdown",
   "metadata": {},
   "source": [
    "Below, we set the limits for plotting in matplotlib, to see how the new margins see in relation to old margins."
   ]
  },
  {
   "cell_type": "code",
   "execution_count": 11,
   "metadata": {
    "collapsed": true
   },
   "outputs": [],
   "source": [
    "xlim = (0, page_1.cropBox.getLowerRight()[0])\n",
    "ylim = (0, page_1.cropBox.getUpperLeft()[1])"
   ]
  },
  {
   "cell_type": "code",
   "execution_count": 12,
   "metadata": {},
   "outputs": [
    {
     "data": {
      "image/png": "[encoded data removed]",
      "text/plain": [
       "<matplotlib.figure.Figure at 0xff6d76b6a0>"
      ]
     },
     "metadata": {},
     "output_type": "display_data"
    }
   ],
   "source": [
    "plt.figure()\n",
    "plt.plot(new_margin[:,0], new_margin[:,1], \"bo\")\n",
    "xlim = plt.xlim()\n",
    "ylim = plt.ylim()\n",
    "plt.show()"
   ]
  },
  {
   "cell_type": "code",
   "execution_count": 13,
   "metadata": {
    "collapsed": true
   },
   "outputs": [],
   "source": [
    "writer = PdfFileWriter()"
   ]
  },
  {
   "cell_type": "code",
   "execution_count": 14,
   "metadata": {
    "collapsed": true
   },
   "outputs": [],
   "source": [
    "for i in np.arange(18, 57):\n",
    "    page = reader.getPage(i)\n",
    "    page.cropBox.setLowerLeft(tuple(lowerleft + [10, 15])) # for this specific example we manually narrow the margin further\n",
    "    page.cropBox.setUpperRight(tuple(upperright - [7, 3])) # ...play around these values, in general.\n",
    "    writer.addPage(page)"
   ]
  },
  {
   "cell_type": "code",
   "execution_count": 15,
   "metadata": {
    "collapsed": true
   },
   "outputs": [],
   "source": [
    "outstream = open(\"mead_cropd_sliced.pdf\", 'wb')\n",
    "writer.write(outstream)\n",
    "outstream.close()"
   ]
  }
 ],
 "metadata": {
  "kernelspec": {
   "display_name": "Python [conda root]",
   "language": "python",
   "name": "conda-root-py"
  },
  "language_info": {
   "codemirror_mode": {
    "name": "ipython",
    "version": 3
   },
   "file_extension": ".py",
   "mimetype": "text/x-python",
   "name": "python",
   "nbconvert_exporter": "python",
   "pygments_lexer": "ipython3",
   "version": "3.5.3"
  }
 },
 "nbformat": 4,
 "nbformat_minor": 2
}
